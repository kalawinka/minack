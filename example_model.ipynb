{
 "cells": [
  {
   "cell_type": "code",
   "execution_count": 1,
   "metadata": {},
   "outputs": [
    {
     "name": "stdout",
     "output_type": "stream",
     "text": [
      "CPU times: user 1.8 s, sys: 1.28 s, total: 3.08 s\n",
      "Wall time: 1.95 s\n"
     ]
    }
   ],
   "source": [
    "%%time\n",
    "from flair.data import Sentence\n",
    "from flair.models import SequenceTagger"
   ]
  },
  {
   "cell_type": "code",
   "execution_count": null,
   "metadata": {},
   "outputs": [],
   "source": [
    "%%time\n",
    "# load the trained model\n",
    "model = SequenceTagger.load('final-model.pt')"
   ]
  },
  {
   "cell_type": "markdown",
   "metadata": {},
   "source": [
    "# easy sentence"
   ]
  },
  {
   "cell_type": "code",
   "execution_count": 2,
   "metadata": {},
   "outputs": [],
   "source": [
    "# create example sentence\n",
    "easy = Sentence(\"This work was supported by State Key Lab of Ocean Engineering Shanghai Jiao Tong University \\\n",
    "    and financially supported by China National Scientific and Technology Major Project (Grant No. 2016ZX05028-006-009)\")"
   ]
  },
  {
   "cell_type": "code",
   "execution_count": 3,
   "metadata": {},
   "outputs": [
    {
     "name": "stdout",
     "output_type": "stream",
     "text": [
      "This work was supported by State <B-UNI> Key <I-UNI> Lab <I-UNI> of <I-UNI> Ocean <I-UNI> Engineering <I-UNI> Shanghai <I-UNI> Jiao <I-UNI> Tong <I-UNI> University <I-UNI> and financially supported by China <B-FUND> National <I-FUND> Scientific <I-FUND> and <I-FUND> Technology <I-FUND> Major <I-FUND> Project <I-FUND> ( Grant No. 2016ZX05028-006-009 <B-GRNB> )\n"
     ]
    }
   ],
   "source": [
    "%%time\n",
    "# predict the tags (easy)\n",
    "model.predict(easy)\n",
    "print(easy.to_tagged_string())"
   ]
  },
  {
   "cell_type": "code",
   "execution_count": 4,
   "metadata": {},
   "outputs": [
    {
     "name": "stdout",
     "output_type": "stream",
     "text": [
      "Span [6,7,8,9,10,11,12,13,14,15]: \"State Key Lab of Ocean Engineering Shanghai Jiao Tong University\"   [− Labels: UNI (0.953)]\n",
      "Span [20,21,22,23,24,25,26]: \"China National Scientific and Technology Major Project\"   [− Labels: FUND (0.9938)]\n",
      "Span [30]: \"2016ZX05028-006-009\"   [− Labels: GRNB (1.0)]\n"
     ]
    }
   ],
   "source": [
    "%%time\n",
    "# predict NER tags (easy)\n",
    "model.predict(easy)\n",
    "for entity in easy.get_spans('ner'):\n",
    "    print(entity)"
   ]
  },
  {
   "cell_type": "markdown",
   "metadata": {},
   "source": [
    "# gold standart\n",
    "State Key Lab of Ocean Engineering Shanghai Jiao Tong University &ensp; UNI \\\n",
    "China National Scientific and Technology Major Project &ensp;FUND \\\n",
    "2016ZX05028-006-009 &ensp; GRNB "
   ]
  },
  {
   "cell_type": "markdown",
   "metadata": {},
   "source": [
    "# more difficult sentence"
   ]
  },
  {
   "cell_type": "code",
   "execution_count": 5,
   "metadata": {},
   "outputs": [],
   "source": [
    "# create example sentence\n",
    "difficult = Sentence(\"This work was supported partly by the National Natural Science Foundation of China \\\n",
    "    (51579026 and 51079013), partly by the Program for Liaoning Excellent Talents in University (LR2015007), \\\n",
    "    and partly by the Technology Foundation for Selected Overseas Chinese Scholar, \\\n",
    "    the Ministry of Human Resources and Social Security of the People's Republic of China, \\\n",
    "    and partly by the Fundamental Research Funds for the Central Universities (3132014332).\")"
   ]
  },
  {
   "cell_type": "code",
   "execution_count": 6,
   "metadata": {},
   "outputs": [
    {
     "name": "stdout",
     "output_type": "stream",
     "text": [
      "This work was supported partly by the National <B-FUND> Natural <I-FUND> Science <I-FUND> Foundation <I-FUND> of <I-FUND> China <I-FUND> ( 51579026 <B-GRNB> and 51079013 <B-GRNB> ) , partly by the Program <B-FUND> for <I-FUND> Liaoning <I-FUND> Excellent <I-FUND> Talents <I-FUND> in University ( LR2015007 <B-GRNB> ) , and partly by the Technology <B-FUND> Foundation <I-FUND> for <I-FUND> Selected <I-FUND> Overseas <I-FUND> Chinese <I-FUND> Scholar <I-FUND> , the Ministry <B-FUND> of <I-FUND> Human <I-FUND> Resources <I-FUND> and <I-FUND> Social <I-FUND> Security <I-FUND> of <I-FUND> the <I-FUND> People <I-FUND> 's <I-FUND> Republic <I-FUND> of <I-FUND> China <I-FUND> , and partly by the Fundamental <B-FUND> Research <I-FUND> Funds <I-FUND> for <I-FUND> the <I-FUND> Central <I-FUND> Universities <I-FUND> ( 3132014332 <B-GRNB> ) .\n"
     ]
    }
   ],
   "source": [
    "%%time\n",
    "# predict the tags (difficult)\n",
    "model.predict(difficult)\n",
    "print(difficult.to_tagged_string())"
   ]
  },
  {
   "cell_type": "code",
   "execution_count": null,
   "metadata": {},
   "outputs": [],
   "source": [
    "%%time\n",
    "# predict NER tags (difficult)\n",
    "model.predict(difficult)\n",
    "for entity in difficult.get_spans('ner'):\n",
    "    print(entity)"
   ]
  },
  {
   "cell_type": "markdown",
   "metadata": {},
   "source": [
    "# gold standart\n",
    "National Natural Science Foundation of China &ensp; FUND \\\n",
    "51579026  &ensp; GRNB \\\n",
    "51079013 &ensp; GRNB \\\n",
    "Program for Liaoning Excellent Talents in University &ensp; FUND\\\n",
    "LR2015007 &ensp; GRNB\\\n",
    "Technology Foundation for Selected Overseas Chinese Scholar &ensp; GRNB\\\n",
    "Ministry of Human Resources and Social Security of the People's Republic of China &ensp; FUND\\\n",
    "Fundamental Research Funds for the Central Universities &ensp; FUND"
   ]
  },
  {
   "cell_type": "markdown",
   "metadata": {},
   "source": [
    "# easy sentence with a person's name"
   ]
  },
  {
   "cell_type": "code",
   "execution_count": null,
   "metadata": {},
   "outputs": [],
   "source": [
    "# create example sentence\n",
    "with_names = Sentence(\" Special thanks to Andy McLennan, \\\n",
    "    with whom we are working on a follow-up article addressing algorithmic aspects of our approach.\")\n"
   ]
  },
  {
   "cell_type": "code",
   "execution_count": null,
   "metadata": {},
   "outputs": [],
   "source": [
    "%%time\n",
    "# predict the tags (with_names)\n",
    "model.predict(with_names)\n",
    "print(with_names.to_tagged_string())"
   ]
  },
  {
   "cell_type": "code",
   "execution_count": null,
   "metadata": {},
   "outputs": [],
   "source": [
    "%%time\n",
    "# predict NER tags (with_names)\n",
    "model.predict(with_names)\n",
    "for entity in with_names.get_spans('ner'):\n",
    "    print(entity)"
   ]
  },
  {
   "cell_type": "markdown",
   "metadata": {},
   "source": [
    "# gold standart\n",
    "Andy McLennan &ensp; IND"
   ]
  },
  {
   "cell_type": "markdown",
   "metadata": {},
   "source": [
    "# full acknowledgement (difficult)"
   ]
  },
  {
   "cell_type": "code",
   "execution_count": null,
   "metadata": {},
   "outputs": [],
   "source": [
    "# create example sentence\n",
    "difficult2 = Sentence(\"This research was funded in part by the National Science Foundation, Science of Science \\\n",
    "          and Innovation Policy Program (NSF 09-3281), the Ewing Marion Kauffman Foundation Dissertation Fellowship, \\\n",
    "          and the University of North Carolina (UNC) Chapel Hill Graduate School Dissertation Completion Fellowship. \\\n",
    "          We thank David Hsu, Rosemarie Ziedonis, John Hardin, Virginia Gray, Jeremy G. Moulton, Christine Durrance, \\\n",
    "          Jade V.M. Jenkins, Alexandra Graddy-Reed, and Jesse Hinde for their comments on earlier versions of this paper. \\\n",
    "          This paper benefited from discussions with seminar participants at the 2014 Academy of Management, 2014 Technology \\\n",
    "          Transfer Society Meeting, 2014 Ewing Marion Kauffman Foundation's Emerging Scholars conference, UNC Chapel Hill \\\n",
    "          Public Policy seminar, Office of Advocacy at the Small Business Administration, Center for Economic Studies at the \\\n",
    "          U.S Census Bureau, School of Global Policy & Strategy at the University of California San Diego, \\\n",
    "          Department of Management at the University of Oregon, Department of Geography and Earth Sciences at the University \\\n",
    "          of North Carolina at Charlotte, Directorate for Engineering and the Directorate for Social & Behavioral Sciences \\\n",
    "          at the National Science Foundation, 2015 Atlanta Conference on Science and Innovation Policy, and the 2015 West \\\n",
    "          Coast Research Symposium at the University of Washington. In addition, we thank John Hardin and Kenneth Roland \\\n",
    "          for providing project-level SBIR State Match data for North Carolina and Kentucky, respectively.\")"
   ]
  },
  {
   "cell_type": "code",
   "execution_count": null,
   "metadata": {},
   "outputs": [],
   "source": [
    "%%time\n",
    "# predict the tags (with_names)\n",
    "model.predict(difficult2)\n",
    "print(difficult2.to_tagged_string())"
   ]
  },
  {
   "cell_type": "code",
   "execution_count": null,
   "metadata": {},
   "outputs": [],
   "source": [
    "%%time\n",
    "# predict NER tags (difficult2)\n",
    "model.predict(difficult2)\n",
    "for entity in difficult2.get_spans('ner'):\n",
    "    print(entity)"
   ]
  },
  {
   "cell_type": "markdown",
   "metadata": {
    "tags": []
   },
   "source": [
    "# gold standart\n",
    "National Science Foundation &ensp; FUND \\\n",
    "Science of Science and Innovation Policy Program &ensp; FUND \\\n",
    "NSF 09-3281 &ensp; GRNB \\\n",
    "Ewing Marion Kauffman Foundation Dissertation Fellowship &ensp; FUND \\\n",
    "University of North Carolina (UNC) Chapel Hill Graduate School Dissertation Completion Fellowship &ensp; UNI\\\n",
    "David Hsu &ensp; IND \\\n",
    "Rosemarie Ziedonis &ensp; IND \\\n",
    "John Hardin &ensp; IND \\\n",
    "Virginia Gray &ensp; IND \\\n",
    "Jeremy G. Moulton &ensp; IND \\\n",
    "Christine Durrance &ensp; IND \\\n",
    "Jade V.M. Jenkins &ensp; IND \\\n",
    "Alexandra Graddy-Reed &ensp; IND \\\n",
    "Jesse Hinde &ensp; IND \\\n",
    "2014 Academy of Management &ensp; MISC \\\n",
    "2014 Technology Transfer Society Meeting &ensp; MISC \\\n",
    "2014 Ewing Marion Kauffman Foundation's Emerging Scholars conference &ensp; MISC \\\n",
    "UNC Chapel Hill Public Policy seminar &ensp; MISC \\\n",
    "Office of Advocacy at the Small Business Administration, Center for Economic Studies at the U.S Census Bureau &ensp; MISC \\\n",
    "School of Global Policy & Strategy at the University of California San Diego &ensp; MISC \\\n",
    "Department of Management at the University of Oregon &ensp; MISC \\\n",
    "Department of Geography and Earth Sciences at the University of North Carolina at Charlotte &ensp; MISC \\\n",
    "Directorate for Engineering and the Directorate for Social & Behavioral Sciences at the National Science Foundation &ensp; MISC \\\n",
    "2015 Atlanta Conference on Science and Innovation Policy &ensp; MISC \\\n",
    "2015 West Coast Research Symposium at the University of Washington &ensp; MISC \\\n",
    "John Hardin &ensp; IND \\\n",
    "Kenneth Roland &ensp; IND \n"
   ]
  }
 ],
 "metadata": {
  "interpreter": {
   "hash": "c5d5a2fab6b62cd8a49df8fcfee3c7f2325d2a7869cd47693d3d93304865e371"
  },
  "kernelspec": {
   "display_name": "Python 3 (ipykernel)",
   "language": "python",
   "name": "python3"
  },
  "language_info": {
   "codemirror_mode": {
    "name": "ipython",
    "version": 3
   },
   "file_extension": ".py",
   "mimetype": "text/x-python",
   "name": "python",
   "nbconvert_exporter": "python",
   "pygments_lexer": "ipython3",
   "version": "3.9.6"
  }
 },
 "nbformat": 4,
 "nbformat_minor": 4
}
