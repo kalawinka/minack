{
 "cells": [
  {
   "cell_type": "code",
   "execution_count": null,
   "metadata": {},
   "outputs": [],
   "source": [
    "from flair.data import Sentence\n",
    "from flair.models import SequenceTagger\n",
    "# load the trained model\n",
    "model = SequenceTagger.load('corpus/training_corpus/models/aknowledgments_ner_flairembeddings_big/final-model.pt')"
   ]
  },
  {
   "cell_type": "markdown",
   "metadata": {},
   "source": [
    "# easy sentence"
   ]
  },
  {
   "cell_type": "code",
   "execution_count": null,
   "metadata": {},
   "outputs": [],
   "source": [
    "# create example sentence\n",
    "easy = Sentence(\"This work was supported by State Key Lab of Ocean Engineering Shanghai Jiao Tong University \\\n",
    "    and financially supported by China National Scientific and Technology Major Project (Grant No. 2016ZX05028-006-009)\")"
   ]
  },
  {
   "cell_type": "code",
   "execution_count": null,
   "metadata": {},
   "outputs": [],
   "source": [
    "# predict the tags (easy)\n",
    "model.predict(easy)\n",
    "print(easy.to_tagged_string())"
   ]
  },
  {
   "cell_type": "code",
   "execution_count": null,
   "metadata": {},
   "outputs": [],
   "source": [
    "# predict NER tags (easy)\n",
    "model.predict(easy)\n",
    "for entity in easy.get_spans('ner'):\n",
    "    print(entity)"
   ]
  },
  {
   "cell_type": "markdown",
   "metadata": {},
   "source": [
    "# more difficult sentence"
   ]
  },
  {
   "cell_type": "code",
   "execution_count": null,
   "metadata": {},
   "outputs": [],
   "source": [
    "# create example sentence\n",
    "difficult = Sentence(\"This work was supported partly by the National Natural Science Foundation of China \\\n",
    "    (51579026 and 51079013), partly by the Program for Liaoning Excellent Talents in University (LR2015007), \\\n",
    "    and partly by the Technology Foundation for Selected Overseas Chinese Scholar, \\\n",
    "    the Ministry of Human Resources and Social Security of the People's Republic of China, \\\n",
    "    and partly by the Fundamental Research Funds for the Central Universities (3132014332).\")"
   ]
  },
  {
   "cell_type": "code",
   "execution_count": null,
   "metadata": {},
   "outputs": [],
   "source": [
    "# predict the tags (difficult)\n",
    "model.predict(difficult)\n",
    "print(difficult.to_tagged_string())"
   ]
  },
  {
   "cell_type": "code",
   "execution_count": null,
   "metadata": {},
   "outputs": [],
   "source": [
    "# predict NER tags (difficult)\n",
    "model.predict(difficult)\n",
    "for entity in difficult.get_spans('ner'):\n",
    "    print(entity)"
   ]
  },
  {
   "cell_type": "markdown",
   "metadata": {},
   "source": [
    "#easy sentence with a person's name"
   ]
  },
  {
   "cell_type": "code",
   "execution_count": null,
   "metadata": {},
   "outputs": [],
   "source": [
    "# create example sentence\n",
    "with_names = Sentence(\" Special thanks to Andy McLennan, \\\n",
    "    with whom we are working on a follow-up article addressing algorithmic aspects of our approach.\")\n"
   ]
  },
  {
   "cell_type": "code",
   "execution_count": null,
   "metadata": {},
   "outputs": [],
   "source": [
    "# predict the tags (with_names)\n",
    "model.predict(with_names)\n",
    "print(with_names.to_tagged_string())"
   ]
  },
  {
   "cell_type": "code",
   "execution_count": null,
   "metadata": {},
   "outputs": [],
   "source": [
    "# predict NER tags (with_names)\n",
    "model.predict(with_names)\n",
    "for entity in with_names.get_spans('ner'):\n",
    "    print(entity)"
   ]
  },
  {
   "cell_type": "markdown",
   "metadata": {},
   "source": [
    "# full acknowledgement (difficult)"
   ]
  },
  {
   "cell_type": "code",
   "execution_count": null,
   "metadata": {},
   "outputs": [],
   "source": [
    "# create example sentence\n",
    "difficult2 = Sentence(\"This research was funded in part by the National Science Foundation, Science of Science \\\n",
    "          and Innovation Policy Program (NSF 09-3281), the Ewing Marion Kauffman Foundation Dissertation Fellowship, \\\n",
    "          and the University of North Carolina (UNC) Chapel Hill Graduate School Dissertation Completion Fellowship. \\\n",
    "          We thank David Hsu, Rosemarie Ziedonis, John Hardin, Virginia Gray, Jeremy G. Moulton, Christine Durrance, \\\n",
    "          Jade V.M. Jenkins, Alexandra Graddy-Reed, and Jesse Hinde for their comments on earlier versions of this paper. \\\n",
    "          This paper benefited from discussions with seminar participants at the 2014 Academy of Management, 2014 Technology \\\n",
    "          Transfer Society Meeting, 2014 Ewing Marion Kauffman Foundation's Emerging Scholars conference, UNC Chapel Hill \\\n",
    "          Public Policy seminar, Office of Advocacy at the Small Business Administration, Center for Economic Studies at the \\\n",
    "          U.S Census Bureau, School of Global Policy & Strategy at the University of California San Diego, \\\n",
    "          Department of Management at the University of Oregon, Department of Geography and Earth Sciences at the University \\\n",
    "          of North Carolina at Charlotte, Directorate for Engineering and the Directorate for Social & Behavioral Sciences \\\n",
    "          at the National Science Foundation, 2015 Atlanta Conference on Science and Innovation Policy, and the 2015 West \\\n",
    "          Coast Research Symposium at the University of Washington. In addition, we thank John Hardin and Kenneth Roland \\\n",
    "          for providing project-level SBIR State Match data for North Carolina and Kentucky, respectively.\")"
   ]
  },
  {
   "cell_type": "code",
   "execution_count": null,
   "metadata": {},
   "outputs": [],
   "source": [
    "# predict the tags (with_names)\n",
    "model.predict(difficult2)\n",
    "print(difficult2.to_tagged_string())"
   ]
  },
  {
   "cell_type": "code",
   "execution_count": null,
   "metadata": {},
   "outputs": [],
   "source": [
    "# predict NER tags (difficult2)\n",
    "model.predict(difficult2)\n",
    "for entity in difficult2.get_spans('ner'):\n",
    "    print(entity)"
   ]
  }
 ],
 "metadata": {
  "interpreter": {
   "hash": "c5d5a2fab6b62cd8a49df8fcfee3c7f2325d2a7869cd47693d3d93304865e371"
  },
  "kernelspec": {
   "display_name": "Python 3.8.10 64-bit ('base': conda)",
   "language": "python",
   "name": "python3"
  },
  "language_info": {
   "codemirror_mode": {
    "name": "ipython",
    "version": 3
   },
   "file_extension": ".py",
   "mimetype": "text/x-python",
   "name": "python",
   "nbconvert_exporter": "python",
   "pygments_lexer": "ipython3",
   "version": "3.8.10"
  },
  "orig_nbformat": 4
 },
 "nbformat": 4,
 "nbformat_minor": 2
}
