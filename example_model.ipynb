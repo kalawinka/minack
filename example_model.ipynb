{
 "cells": [
  {
   "cell_type": "markdown",
   "metadata": {},
   "source": [
    "# Try NER model for acknowledgement texts in scientific articles built with FLAIR NLP-framework\n",
    "Our NER model are able to recognized 6 types of acknoweledged entities \\\n",
    "FUND &ensp; Funding organization \\\n",
    "GRNB &ensp; Grant number \\\n",
    "IND &ensp; Person \\\n",
    "COR &ensp; Corporation \\\n",
    "UNI &ensp; University \\\n",
    "MISC &ensp; Miscellaneous"
   ]
  },
  {
   "cell_type": "code",
   "execution_count": null,
   "metadata": {},
   "outputs": [],
   "source": [
    "%%time\n",
    "#import libraries\n",
    "from flair.data import Sentence\n",
    "from flair.models import SequenceTagger"
   ]
  },
  {
   "cell_type": "code",
   "execution_count": null,
   "metadata": {},
   "outputs": [],
   "source": [
    "%%time\n",
    "# load the trained model\n",
    "model = SequenceTagger.load('final-model.pt')"
   ]
  },
  {
   "cell_type": "markdown",
   "metadata": {},
   "source": [
    "# Try the model with our example"
   ]
  },
  {
   "cell_type": "code",
   "execution_count": null,
   "metadata": {},
   "outputs": [],
   "source": [
    "# create example sentence\n",
    "sentence = Sentence(\"This work was supported by State Key Lab of Ocean Engineering Shanghai Jiao Tong University \\\n",
    "    and financially supported by China National Scientific and Technology Major Project (Grant No. 2016ZX05028-006-009)\")"
   ]
  },
  {
   "cell_type": "code",
   "execution_count": null,
   "metadata": {},
   "outputs": [],
   "source": [
    "%%time\n",
    "# predict the tags \n",
    "model.predict(sentence)\n",
    "#print output as a tagged string\n",
    "print(sentence.to_tagged_string())"
   ]
  },
  {
   "cell_type": "code",
   "execution_count": null,
   "metadata": {},
   "outputs": [],
   "source": [
    "%%time\n",
    "# predict the tags \n",
    "model.predict(sentence)\n",
    "#print output as spans\n",
    "for entity in sentence.get_spans('ner'):\n",
    "    print(entity)"
   ]
  },
  {
   "cell_type": "markdown",
   "metadata": {},
   "source": [
    "# Gold standard\n",
    "State Key Lab of Ocean Engineering Shanghai Jiao Tong University &ensp; UNI \\\n",
    "China National Scientific and Technology Major Project &ensp;FUND \\\n",
    "2016ZX05028-006-009 &ensp; GRNB "
   ]
  },
  {
   "cell_type": "markdown",
   "metadata": {},
   "source": [
    "# You can also use your own examples \n",
    "just type you acknowledgement in the Sentence( )"
   ]
  },
  {
   "cell_type": "code",
   "execution_count": null,
   "metadata": {},
   "outputs": [],
   "source": [
    "# create example sentence\n",
    "sentence = Sentence(\"Type your acknowledgement here\")"
   ]
  },
  {
   "cell_type": "code",
   "execution_count": null,
   "metadata": {},
   "outputs": [],
   "source": [
    "%%time\n",
    "# predict the tags \n",
    "model.predict(sentence)\n",
    "#print output as a tagged string\n",
    "print(sentence.to_tagged_string())"
   ]
  },
  {
   "cell_type": "code",
   "execution_count": null,
   "metadata": {},
   "outputs": [],
   "source": [
    "%%time\n",
    "# predict the tags \n",
    "model.predict(sentence)\n",
    "#print output as spans\n",
    "for entity in sentence.get_spans('ner'):\n",
    "    print(entity)"
   ]
  },
  {
   "cell_type": "markdown",
   "metadata": {},
   "source": [
    "# Here you can find some more acknowledgement texts!\n",
    "# Text 1:\n",
    "This work was supported partly by the National Natural Science Foundation of China (51579026 and 51079013), partly by the Program for Liaoning Excellent Talents in University (LR2015007), and partly by the Technology Foundation for Selected Overseas Chinese Scholar, the Ministry of Human Resources and Social Security of the People's Republic of China, and partly by the Fundamental Research Funds for the Central Universities (3132014332).\n",
    "\n",
    "# Gold standard\n",
    "National Natural Science Foundation of China &ensp; FUND \\\n",
    "51579026  &ensp; GRNB \\\n",
    "51079013 &ensp; GRNB \\\n",
    "Program for Liaoning Excellent Talents in University &ensp; FUND\\\n",
    "LR2015007 &ensp; GRNB\\\n",
    "Technology Foundation for Selected Overseas Chinese Scholar &ensp; GRNB\\\n",
    "Ministry of Human Resources and Social Security of the People's Republic of China &ensp; FUND\\\n",
    "Fundamental Research Funds for the Central Universities &ensp; FUND\n",
    "\n",
    "# Text 2:\n",
    "Special thanks to Andy McLennan, with whom we are working on a follow-up article addressing algorithmic aspects of our approach.\n",
    "\n",
    "# Gold standard\n",
    "Andy McLennan &ensp; IND\n",
    "\n",
    "# Text 3: \n",
    "This research was funded in part by the National Science Foundation, Science of Science and Innovation Policy Program (NSF 09-3281), the Ewing Marion Kauffman Foundation Dissertation Fellowship, and the University of North Carolina (UNC) Chapel Hill Graduate School Dissertation Completion Fellowship. We thank David Hsu, Rosemarie Ziedonis, John Hardin, Virginia Gray, Jeremy G. Moulton, Christine Durrance, Jade V.M. Jenkins, Alexandra Graddy-Reed, and Jesse Hinde for their comments on earlier versions of this paper. This paper benefited from discussions with seminar participants at the 2014 Academy of Management, 2014 Technology Transfer Society Meeting, 2014 Ewing Marion Kauffman Foundation's Emerging Scholars conference, UNC Chapel Hill Public Policy seminar, Office of Advocacy at the Small Business Administration, Center for Economic Studies at the U.S Census Bureau, School of Global Policy & Strategy at the University of California San Diego, Department of Management at the University of Oregon, Department of Geography and Earth Sciences at the University of North Carolina at Charlotte, Directorate for Engineering and the Directorate for Social & Behavioral Sciences at the National Science Foundation, 2015 Atlanta Conference on Science and Innovation Policy, and the 2015 West Coast Research Symposium at the University of Washington. In addition, we thank John Hardin and Kenneth Roland for providing project-level SBIR State Match data for North Carolina and Kentucky, respectively.\n",
    "\n",
    "# Gold standard\n",
    "National Science Foundation &ensp; FUND \\\n",
    "Science of Science and Innovation Policy Program &ensp; FUND \\\n",
    "NSF 09-3281 &ensp; GRNB \\\n",
    "Ewing Marion Kauffman Foundation Dissertation Fellowship &ensp; FUND \\\n",
    "University of North Carolina (UNC) Chapel Hill Graduate School Dissertation Completion Fellowship &ensp; UNI\\\n",
    "David Hsu &ensp; IND \\\n",
    "Rosemarie Ziedonis &ensp; IND \\\n",
    "John Hardin &ensp; IND \\\n",
    "Virginia Gray &ensp; IND \\\n",
    "Jeremy G. Moulton &ensp; IND \\\n",
    "Christine Durrance &ensp; IND \\\n",
    "Jade V.M. Jenkins &ensp; IND \\\n",
    "Alexandra Graddy-Reed &ensp; IND \\\n",
    "Jesse Hinde &ensp; IND \\\n",
    "2014 Academy of Management &ensp; MISC \\\n",
    "2014 Technology Transfer Society Meeting &ensp; MISC \\\n",
    "2014 Ewing Marion Kauffman Foundation's Emerging Scholars conference &ensp; MISC \\\n",
    "UNC Chapel Hill Public Policy seminar &ensp; MISC \\\n",
    "Office of Advocacy at the Small Business Administration, Center for Economic Studies at the U.S Census Bureau &ensp; MISC \\\n",
    "School of Global Policy & Strategy at the University of California San Diego &ensp; MISC \\\n",
    "Department of Management at the University of Oregon &ensp; MISC \\\n",
    "Department of Geography and Earth Sciences at the University of North Carolina at Charlotte &ensp; MISC \\\n",
    "Directorate for Engineering and the Directorate for Social & Behavioral Sciences at the National Science Foundation &ensp; MISC \\\n",
    "2015 Atlanta Conference on Science and Innovation Policy &ensp; MISC \\\n",
    "2015 West Coast Research Symposium at the University of Washington &ensp; MISC \\\n",
    "John Hardin &ensp; IND \\\n",
    "Kenneth Roland &ensp; IND \n"
   ]
  }
 ],
 "metadata": {
  "interpreter": {
   "hash": "c5d5a2fab6b62cd8a49df8fcfee3c7f2325d2a7869cd47693d3d93304865e371"
  },
  "kernelspec": {
   "display_name": "Python 3 (ipykernel)",
   "language": "python",
   "name": "python3"
  },
  "language_info": {
   "codemirror_mode": {
    "name": "ipython",
    "version": 3
   },
   "file_extension": ".py",
   "mimetype": "text/x-python",
   "name": "python",
   "nbconvert_exporter": "python",
   "pygments_lexer": "ipython3",
   "version": "3.8.10"
  }
 },
 "nbformat": 4,
 "nbformat_minor": 4
}
